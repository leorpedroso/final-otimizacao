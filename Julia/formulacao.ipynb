{
 "cells": [
  {
   "cell_type": "code",
   "execution_count": 304,
   "id": "50df6d65",
   "metadata": {},
   "outputs": [],
   "source": [
    "using JuMP\n",
    "using GLPK"
   ]
  },
  {
   "cell_type": "code",
   "execution_count": 305,
   "id": "31650e2d",
   "metadata": {},
   "outputs": [],
   "source": [
    "m = Model();\n",
    "set_optimizer(m, GLPK.Optimizer);"
   ]
  },
  {
   "cell_type": "code",
   "execution_count": 306,
   "id": "1fcca449",
   "metadata": {},
   "outputs": [],
   "source": [
    "set_time_limit_sec(m, 1800.0);"
   ]
  },
  {
   "cell_type": "code",
   "execution_count": 307,
   "id": "66976ae2",
   "metadata": {},
   "outputs": [
    {
     "data": {
      "text/plain": [
       "reader (generic function with 1 method)"
      ]
     },
     "execution_count": 307,
     "metadata": {},
     "output_type": "execute_result"
    }
   ],
   "source": [
    "function reader(filepath :: String)\n",
    "  k_count = 0\n",
    "  arestas = []\n",
    "  v_count = 0\n",
    "  \n",
    "  open(filepath, \"r\") do f\n",
    "    line = readline(f)\n",
    "    line = readline(f)\n",
    "    v_count = parse(Int, line) # Number of vertices\n",
    "    line = readline(f)\n",
    "    line = readline(f)\n",
    "\n",
    "    while ! eof(f)\n",
    "      line = readline(f)\n",
    "      words = split(line)\n",
    "      if isempty(words)\n",
    "          continue\n",
    "      end\n",
    "      vertex1 = parse(Int,words[1])\n",
    "      vertex2 = parse(Int,words[2])\n",
    "      edge_type = parse(Int,words[3])\n",
    "\n",
    "      if edge_type > k_count\n",
    "        k_count = edge_type\n",
    "      end\n",
    "\n",
    "      push!(arestas, (vertex1,vertex2,edge_type))\n",
    "    end\n",
    "  end\n",
    "  return (arestas, k_count, v_count)\n",
    "end"
   ]
  },
  {
   "cell_type": "code",
   "execution_count": 308,
   "id": "5ff6af72",
   "metadata": {},
   "outputs": [],
   "source": [
    "filepath = \"/home/leo/Documents/2021_1/Otimizacao/Trabalho/final-otimizacao/rm/jcole.txt\"\n",
    "\n",
    "my_tuple = reader(filepath)\n",
    "arestas = my_tuple[1]\n",
    "K = my_tuple[2]\n",
    "V = my_tuple[3];"
   ]
  },
  {
   "cell_type": "code",
   "execution_count": 309,
   "id": "769b59fd",
   "metadata": {},
   "outputs": [
    {
     "data": {
      "text/plain": [
       "create_arestas_k (generic function with 1 method)"
      ]
     },
     "execution_count": 309,
     "metadata": {},
     "output_type": "execute_result"
    }
   ],
   "source": [
    "function create_arestas_k(arestas, k)\n",
    "    arestas_k = [[] for i=1:k]\n",
    "    for a in arestas\n",
    "        push!(arestas_k[a[3]], (a))\n",
    "    end\n",
    "    return arestas_k\n",
    "end"
   ]
  },
  {
   "cell_type": "code",
   "execution_count": 310,
   "id": "f0dc0cba",
   "metadata": {},
   "outputs": [],
   "source": [
    "arestas_k = create_arestas_k(arestas,K);"
   ]
  },
  {
   "cell_type": "code",
   "execution_count": 311,
   "id": "0128fe53",
   "metadata": {
    "scrolled": false
   },
   "outputs": [],
   "source": [
    "@variable(m, x[i in arestas], Bin);"
   ]
  },
  {
   "cell_type": "code",
   "execution_count": 312,
   "id": "8b1aef68",
   "metadata": {},
   "outputs": [],
   "source": [
    "@constraint(m, [k in 1:K], sum(x[i] for i in arestas_k[k]) <=1);"
   ]
  },
  {
   "cell_type": "code",
   "execution_count": 313,
   "id": "4d575cc8",
   "metadata": {},
   "outputs": [
    {
     "data": {
      "text/plain": [
       "create_arestas_v (generic function with 1 method)"
      ]
     },
     "execution_count": 313,
     "metadata": {},
     "output_type": "execute_result"
    }
   ],
   "source": [
    "function create_arestas_v(arestas, v)\n",
    "    arestas_v = [[] for i=1:v]\n",
    "    for a in arestas\n",
    "        push!(arestas_v[a[1]], (a))\n",
    "        push!(arestas_v[a[2]], (a))\n",
    "    end\n",
    "    return arestas_v\n",
    "end"
   ]
  },
  {
   "cell_type": "code",
   "execution_count": 314,
   "id": "16d9d1c3",
   "metadata": {},
   "outputs": [],
   "source": [
    "arestas_v = create_arestas_v(arestas,V);"
   ]
  },
  {
   "cell_type": "code",
   "execution_count": 315,
   "id": "b91800de",
   "metadata": {},
   "outputs": [],
   "source": [
    "@constraint(m, [v in 1:V], sum(x[i] for i in arestas_v[v]) <=1);"
   ]
  },
  {
   "cell_type": "code",
   "execution_count": 316,
   "id": "810de938",
   "metadata": {},
   "outputs": [],
   "source": [
    "@objective(m, Max, sum(x[i] for i in arestas));"
   ]
  },
  {
   "cell_type": "code",
   "execution_count": 317,
   "id": "bfea6978",
   "metadata": {},
   "outputs": [],
   "source": [
    "optimize!(m)"
   ]
  },
  {
   "cell_type": "code",
   "execution_count": 318,
   "id": "de6e783e",
   "metadata": {},
   "outputs": [
    {
     "data": {
      "text/plain": [
       "2.0"
      ]
     },
     "execution_count": 318,
     "metadata": {},
     "output_type": "execute_result"
    }
   ],
   "source": [
    "objective_value(m)"
   ]
  },
  {
   "cell_type": "code",
   "execution_count": 319,
   "id": "cfec25f5",
   "metadata": {
    "scrolled": true
   },
   "outputs": [
    {
     "name": "stdout",
     "output_type": "stream",
     "text": [
      "value.(x) = 1-dimensional DenseAxisArray{Float64,1,...} with index sets:\n",
      "    Dimension 1, Any[(1, 2, 4), (1, 3, 1), (1, 4, 1), (2, 3, 3), (2, 4, 1), (2, 5, 1)]\n",
      "And data, a 6-element Vector{Float64}:\n",
      " 0.0\n",
      " 0.0\n",
      " 1.0\n",
      " 1.0\n",
      " 0.0\n",
      " 0.0\n"
     ]
    },
    {
     "data": {
      "text/plain": [
       "1-dimensional DenseAxisArray{Float64,1,...} with index sets:\n",
       "    Dimension 1, Any[(1, 2, 4), (1, 3, 1), (1, 4, 1), (2, 3, 3), (2, 4, 1), (2, 5, 1)]\n",
       "And data, a 6-element Vector{Float64}:\n",
       " 0.0\n",
       " 0.0\n",
       " 1.0\n",
       " 1.0\n",
       " 0.0\n",
       " 0.0"
      ]
     },
     "execution_count": 319,
     "metadata": {},
     "output_type": "execute_result"
    }
   ],
   "source": [
    "@show value.(x)"
   ]
  },
  {
   "cell_type": "code",
   "execution_count": 320,
   "id": "bea61039",
   "metadata": {},
   "outputs": [],
   "source": [
    "using DelimitedFiles\n",
    "\n",
    "open(\"answer.txt\", \"w\") do f\n",
    "    writedlm(f, value.(x))\n",
    "\n",
    "end"
   ]
  },
  {
   "cell_type": "code",
   "execution_count": null,
   "id": "a87eae74",
   "metadata": {},
   "outputs": [],
   "source": []
  }
 ],
 "metadata": {
  "kernelspec": {
   "display_name": "Julia 1.6.2",
   "language": "julia",
   "name": "julia-1.6"
  },
  "language_info": {
   "file_extension": ".jl",
   "mimetype": "application/julia",
   "name": "julia",
   "version": "1.6.2"
  }
 },
 "nbformat": 4,
 "nbformat_minor": 5
}
