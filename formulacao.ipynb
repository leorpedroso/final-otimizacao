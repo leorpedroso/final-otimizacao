{
 "cells": [
  {
   "cell_type": "code",
   "execution_count": 51,
   "id": "50df6d65",
   "metadata": {},
   "outputs": [],
   "source": [
    "using JuMP\n",
    "using GLPK"
   ]
  },
  {
   "cell_type": "code",
   "execution_count": 52,
   "id": "31650e2d",
   "metadata": {},
   "outputs": [],
   "source": [
    "m = Model();\n",
    "set_optimizer(m, GLPK.Optimizer);"
   ]
  },
  {
   "cell_type": "code",
   "execution_count": 53,
   "id": "c9b579db",
   "metadata": {},
   "outputs": [],
   "source": [
    "set_time_limit_sec(m, 1200.0);"
   ]
  },
  {
   "cell_type": "code",
   "execution_count": 54,
   "id": "66976ae2",
   "metadata": {},
   "outputs": [
    {
     "data": {
      "text/plain": [
       "reader (generic function with 1 method)"
      ]
     },
     "execution_count": 54,
     "metadata": {},
     "output_type": "execute_result"
    }
   ],
   "source": [
    "function reader(filepath :: String)\n",
    "  k_count = 0\n",
    "  arestas = []\n",
    "  v_count = 0\n",
    "  \n",
    "  open(filepath, \"r\") do f\n",
    "    line = readline(f)\n",
    "    line = readline(f)\n",
    "    v_count = parse(Int, line) # Number of vertices\n",
    "    line = readline(f)\n",
    "    line = readline(f)\n",
    "\n",
    "    while ! eof(f)\n",
    "      line = readline(f)\n",
    "      words = split(line)\n",
    "      if isempty(words)\n",
    "          continue\n",
    "      end\n",
    "      vertex1 = parse(Int,words[1])\n",
    "      vertex2 = parse(Int,words[2])\n",
    "      edge_type = parse(Int,words[3])\n",
    "\n",
    "      if edge_type > k_count\n",
    "        k_count = edge_type\n",
    "      end\n",
    "\n",
    "      push!(arestas, (vertex1,vertex2,edge_type))\n",
    "    end\n",
    "  end\n",
    "  return (arestas, k_count, v_count)\n",
    "end"
   ]
  },
  {
   "cell_type": "code",
   "execution_count": 55,
   "id": "5ff6af72",
   "metadata": {},
   "outputs": [],
   "source": [
    "filepath = \"/home/leo/Documents/2021_1/Otimizacao/Trabalho/final-otimizacao/rm/RM01\"\n",
    "\n",
    "my_tuple = reader(filepath)\n",
    "arestas = my_tuple[1]\n",
    "K = my_tuple[2]\n",
    "V = my_tuple[3];"
   ]
  },
  {
   "cell_type": "code",
   "execution_count": 56,
   "id": "769b59fd",
   "metadata": {},
   "outputs": [
    {
     "data": {
      "text/plain": [
       "create_arestas_k (generic function with 1 method)"
      ]
     },
     "execution_count": 56,
     "metadata": {},
     "output_type": "execute_result"
    }
   ],
   "source": [
    "function create_arestas_k(arestas, k)\n",
    "    arestas_k = [[] for i=1:k]\n",
    "    for a in arestas\n",
    "        push!(arestas_k[a[3]], (a))\n",
    "    end\n",
    "    return arestas_k\n",
    "end"
   ]
  },
  {
   "cell_type": "code",
   "execution_count": 57,
   "id": "edfb2252",
   "metadata": {},
   "outputs": [],
   "source": [
    "arestas_k = create_arestas_k(arestas,K);"
   ]
  },
  {
   "cell_type": "code",
   "execution_count": 58,
   "id": "0128fe53",
   "metadata": {
    "scrolled": false
   },
   "outputs": [],
   "source": [
    "@variable(m, x[i in arestas], Bin);"
   ]
  },
  {
   "cell_type": "code",
   "execution_count": 59,
   "id": "8b1aef68",
   "metadata": {},
   "outputs": [],
   "source": [
    "@constraint(m, [k in 1:K], sum(x[i] for i in arestas_k[k]) <=1);"
   ]
  },
  {
   "cell_type": "code",
   "execution_count": 60,
   "id": "4d575cc8",
   "metadata": {},
   "outputs": [
    {
     "data": {
      "text/plain": [
       "create_arestas_v (generic function with 1 method)"
      ]
     },
     "execution_count": 60,
     "metadata": {},
     "output_type": "execute_result"
    }
   ],
   "source": [
    "function create_arestas_v(arestas, v)\n",
    "    arestas_v = [[] for i=1:v]\n",
    "    for a in arestas\n",
    "        push!(arestas_v[a[1]], (a))\n",
    "        push!(arestas_v[a[2]], (a))\n",
    "    end\n",
    "    return arestas_v\n",
    "end"
   ]
  },
  {
   "cell_type": "code",
   "execution_count": 61,
   "id": "16d9d1c3",
   "metadata": {},
   "outputs": [],
   "source": [
    "arestas_v = create_arestas_v(arestas,V);"
   ]
  },
  {
   "cell_type": "code",
   "execution_count": 62,
   "id": "b91800de",
   "metadata": {},
   "outputs": [],
   "source": [
    "@constraint(m, [v in 1:V], sum(x[i] for i in arestas_v[v]) <=1);"
   ]
  },
  {
   "cell_type": "code",
   "execution_count": 63,
   "id": "810de938",
   "metadata": {},
   "outputs": [],
   "source": [
    "@objective(m, Max, sum(x[i] for i in arestas));"
   ]
  },
  {
   "cell_type": "code",
   "execution_count": 64,
   "id": "bfea6978",
   "metadata": {},
   "outputs": [],
   "source": [
    "optimize!(m)"
   ]
  },
  {
   "cell_type": "code",
   "execution_count": 65,
   "id": "de6e783e",
   "metadata": {},
   "outputs": [
    {
     "ename": "LoadError",
     "evalue": "Result index of attribute MathOptInterface.ObjectiveValue(1) out of bounds. There are currently 0 solution(s) in the model.",
     "output_type": "error",
     "traceback": [
      "Result index of attribute MathOptInterface.ObjectiveValue(1) out of bounds. There are currently 0 solution(s) in the model.",
      "",
      "Stacktrace:",
      "  [1] check_result_index_bounds",
      "    @ ~/.julia/packages/MathOptInterface/YDdD3/src/attributes.jl:139 [inlined]",
      "  [2] get(model::GLPK.Optimizer, attr::MathOptInterface.ObjectiveValue)",
      "    @ GLPK ~/.julia/packages/GLPK/oTTtu/src/MOI_wrapper.jl:1698",
      "  [3] get(b::MathOptInterface.Bridges.LazyBridgeOptimizer{GLPK.Optimizer}, attr::MathOptInterface.ObjectiveValue)",
      "    @ MathOptInterface.Bridges ~/.julia/packages/MathOptInterface/YDdD3/src/Bridges/bridge_optimizer.jl:913",
      "  [4] get(model::MathOptInterface.Utilities.CachingOptimizer{MathOptInterface.AbstractOptimizer, MathOptInterface.Utilities.UniversalFallback{MathOptInterface.Utilities.GenericModel{Float64, MathOptInterface.Utilities.ModelFunctionConstraints{Float64}}}}, attr::MathOptInterface.ObjectiveValue)",
      "    @ MathOptInterface.Utilities ~/.julia/packages/MathOptInterface/YDdD3/src/Utilities/cachingoptimizer.jl:716",
      "  [5] _moi_get_result(model::MathOptInterface.Utilities.CachingOptimizer{MathOptInterface.AbstractOptimizer, MathOptInterface.Utilities.UniversalFallback{MathOptInterface.Utilities.GenericModel{Float64, MathOptInterface.Utilities.ModelFunctionConstraints{Float64}}}}, args::MathOptInterface.ObjectiveValue)",
      "    @ JuMP ~/.julia/packages/JuMP/b3hGi/src/JuMP.jl:1199",
      "  [6] get(model::Model, attr::MathOptInterface.ObjectiveValue)",
      "    @ JuMP ~/.julia/packages/JuMP/b3hGi/src/JuMP.jl:1212",
      "  [7] objective_value(model::Model; result::Int64)",
      "    @ JuMP ~/.julia/packages/JuMP/b3hGi/src/objective.jl:42",
      "  [8] objective_value(model::Model)",
      "    @ JuMP ~/.julia/packages/JuMP/b3hGi/src/objective.jl:42",
      "  [9] top-level scope",
      "    @ In[65]:1",
      " [10] eval",
      "    @ ./boot.jl:360 [inlined]",
      " [11] include_string(mapexpr::typeof(REPL.softscope), mod::Module, code::String, filename::String)",
      "    @ Base ./loading.jl:1116"
     ]
    }
   ],
   "source": [
    "objective_value(m)"
   ]
  },
  {
   "cell_type": "code",
   "execution_count": 66,
   "id": "e41cf8fa",
   "metadata": {
    "scrolled": true
   },
   "outputs": [
    {
     "ename": "LoadError",
     "evalue": "Result index of attribute MathOptInterface.VariablePrimal(1) out of bounds. There are currently 0 solution(s) in the model.",
     "output_type": "error",
     "traceback": [
      "Result index of attribute MathOptInterface.VariablePrimal(1) out of bounds. There are currently 0 solution(s) in the model.",
      "",
      "Stacktrace:",
      "  [1] check_result_index_bounds",
      "    @ ~/.julia/packages/MathOptInterface/YDdD3/src/attributes.jl:139 [inlined]",
      "  [2] get(model::GLPK.Optimizer, attr::MathOptInterface.VariablePrimal, x::MathOptInterface.VariableIndex)",
      "    @ GLPK ~/.julia/packages/GLPK/oTTtu/src/MOI_wrapper.jl:1573",
      "  [3] get(b::MathOptInterface.Bridges.LazyBridgeOptimizer{GLPK.Optimizer}, attr::MathOptInterface.VariablePrimal, index::MathOptInterface.VariableIndex)",
      "    @ MathOptInterface.Bridges ~/.julia/packages/MathOptInterface/YDdD3/src/Bridges/bridge_optimizer.jl:1039",
      "  [4] get(model::MathOptInterface.Utilities.CachingOptimizer{MathOptInterface.AbstractOptimizer, MathOptInterface.Utilities.UniversalFallback{MathOptInterface.Utilities.GenericModel{Float64, MathOptInterface.Utilities.ModelFunctionConstraints{Float64}}}}, attr::MathOptInterface.VariablePrimal, index::MathOptInterface.VariableIndex)",
      "    @ MathOptInterface.Utilities ~/.julia/packages/MathOptInterface/YDdD3/src/Utilities/cachingoptimizer.jl:757",
      "  [5] _moi_get_result(::MathOptInterface.Utilities.CachingOptimizer{MathOptInterface.AbstractOptimizer, MathOptInterface.Utilities.UniversalFallback{MathOptInterface.Utilities.GenericModel{Float64, MathOptInterface.Utilities.ModelFunctionConstraints{Float64}}}}, ::MathOptInterface.VariablePrimal, ::Vararg{Any, N} where N)",
      "    @ JuMP ~/.julia/packages/JuMP/b3hGi/src/JuMP.jl:1199",
      "  [6] get(model::Model, attr::MathOptInterface.VariablePrimal, v::VariableRef)",
      "    @ JuMP ~/.julia/packages/JuMP/b3hGi/src/JuMP.jl:1232",
      "  [7] value(v::VariableRef; result::Int64)",
      "    @ JuMP ~/.julia/packages/JuMP/b3hGi/src/variables.jl:943",
      "  [8] value",
      "    @ ~/.julia/packages/JuMP/b3hGi/src/variables.jl:943 [inlined]",
      "  [9] _broadcast_getindex_evalf",
      "    @ ./broadcast.jl:648 [inlined]",
      " [10] _broadcast_getindex",
      "    @ ./broadcast.jl:621 [inlined]",
      " [11] getindex",
      "    @ ./broadcast.jl:575 [inlined]",
      " [12] macro expansion",
      "    @ ./broadcast.jl:984 [inlined]",
      " [13] macro expansion",
      "    @ ./simdloop.jl:77 [inlined]",
      " [14] copyto!",
      "    @ ./broadcast.jl:983 [inlined]",
      " [15] copyto!",
      "    @ ./broadcast.jl:936 [inlined]",
      " [16] copy",
      "    @ ./broadcast.jl:908 [inlined]",
      " [17] materialize",
      "    @ ./broadcast.jl:883 [inlined]",
      " [18] broadcast(f::typeof(value), As::Vector{VariableRef})",
      "    @ Base.Broadcast ./broadcast.jl:821",
      " [19] broadcasted(#unused#::Base.Broadcast.ArrayStyle{JuMP.Containers.DenseAxisArray{VariableRef, 1, Tuple{Vector{Any}}, Tuple{JuMP.Containers._AxisLookup{Dict{Any, Int64}}}}}, f::Function, args::JuMP.Containers.DenseAxisArray{VariableRef, 1, Tuple{Vector{Any}}, Tuple{JuMP.Containers._AxisLookup{Dict{Any, Int64}}}})",
      "    @ JuMP.Containers ~/.julia/packages/JuMP/b3hGi/src/Containers/DenseAxisArray.jl:378",
      " [20] broadcasted(::Function, ::JuMP.Containers.DenseAxisArray{VariableRef, 1, Tuple{Vector{Any}}, Tuple{JuMP.Containers._AxisLookup{Dict{Any, Int64}}}})",
      "    @ Base.Broadcast ./broadcast.jl:1309",
      " [21] top-level scope",
      "    @ show.jl:955",
      " [22] eval",
      "    @ ./boot.jl:360 [inlined]",
      " [23] include_string(mapexpr::typeof(REPL.softscope), mod::Module, code::String, filename::String)",
      "    @ Base ./loading.jl:1116"
     ]
    }
   ],
   "source": [
    "@show value.(x)"
   ]
  },
  {
   "cell_type": "code",
   "execution_count": null,
   "id": "f18836ce",
   "metadata": {},
   "outputs": [],
   "source": []
  }
 ],
 "metadata": {
  "kernelspec": {
   "display_name": "Julia 1.6.2",
   "language": "julia",
   "name": "julia-1.6"
  },
  "language_info": {
   "file_extension": ".jl",
   "mimetype": "application/julia",
   "name": "julia",
   "version": "1.6.2"
  }
 },
 "nbformat": 4,
 "nbformat_minor": 5
}
