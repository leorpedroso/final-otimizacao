{
 "cells": [
  {
   "cell_type": "code",
   "execution_count": 56,
   "id": "e7b400c3",
   "metadata": {},
   "outputs": [],
   "source": [
    "using JuMP\n",
    "using GLPK"
   ]
  },
  {
   "cell_type": "code",
   "execution_count": 57,
   "id": "13db9b98",
   "metadata": {},
   "outputs": [],
   "source": [
    "m = Model();\n",
    "set_optimizer(m, GLPK.Optimizer);"
   ]
  },
  {
   "cell_type": "code",
   "execution_count": 58,
   "id": "ed28d46b",
   "metadata": {},
   "outputs": [
    {
     "data": {
      "text/plain": [
       "5-element Vector{Int64}:\n",
       " 1\n",
       " 2\n",
       " 3\n",
       " 4\n",
       " 5"
      ]
     },
     "execution_count": 58,
     "metadata": {},
     "output_type": "execute_result"
    }
   ],
   "source": [
    "arestas = [(1,2,4),(1,3,1),(1,4,1),(2,3,1),(2,4,1),(2,5,1)]\n",
    "K = collect(1:4)\n",
    "V = collect(1:5)"
   ]
  },
  {
   "cell_type": "code",
   "execution_count": 59,
   "id": "60acaaf3",
   "metadata": {},
   "outputs": [
    {
     "data": {
      "text/plain": [
       "create_arestas_k (generic function with 1 method)"
      ]
     },
     "execution_count": 59,
     "metadata": {},
     "output_type": "execute_result"
    }
   ],
   "source": [
    "function create_arestas_k(arestas)\n",
    "    arestas_k = [[],[],[],[]]\n",
    "    for a in arestas\n",
    "        push!(arestas_k[a[3]], (a))\n",
    "    end\n",
    "    return arestas_k\n",
    "end\n"
   ]
  },
  {
   "cell_type": "code",
   "execution_count": 60,
   "id": "761ecb69",
   "metadata": {},
   "outputs": [
    {
     "data": {
      "text/plain": [
       "4-element Vector{Vector{Any}}:\n",
       " [(1, 3, 1), (1, 4, 1), (2, 3, 1), (2, 4, 1), (2, 5, 1)]\n",
       " []\n",
       " []\n",
       " [(1, 2, 4)]"
      ]
     },
     "execution_count": 60,
     "metadata": {},
     "output_type": "execute_result"
    }
   ],
   "source": [
    "arestas_k = create_arestas_k(arestas)"
   ]
  },
  {
   "cell_type": "code",
   "execution_count": 61,
   "id": "3c7b7081",
   "metadata": {
    "scrolled": false
   },
   "outputs": [
    {
     "data": {
      "text/plain": [
       "1-dimensional DenseAxisArray{VariableRef,1,...} with index sets:\n",
       "    Dimension 1, [(1, 2, 4), (1, 3, 1), (1, 4, 1), (2, 3, 1), (2, 4, 1), (2, 5, 1)]\n",
       "And data, a 6-element Vector{VariableRef}:\n",
       " x[(1, 2, 4)]\n",
       " x[(1, 3, 1)]\n",
       " x[(1, 4, 1)]\n",
       " x[(2, 3, 1)]\n",
       " x[(2, 4, 1)]\n",
       " x[(2, 5, 1)]"
      ]
     },
     "execution_count": 61,
     "metadata": {},
     "output_type": "execute_result"
    }
   ],
   "source": [
    "@variable(m, x[i in arestas], Bin)"
   ]
  },
  {
   "cell_type": "code",
   "execution_count": 62,
   "id": "c97bbd5a",
   "metadata": {},
   "outputs": [
    {
     "data": {
      "text/plain": [
       "1-dimensional DenseAxisArray{ConstraintRef{Model, MathOptInterface.ConstraintIndex{MathOptInterface.ScalarAffineFunction{Float64}, MathOptInterface.LessThan{Float64}}, ScalarShape},1,...} with index sets:\n",
       "    Dimension 1, [1, 2, 3, 4]\n",
       "And data, a 4-element Vector{ConstraintRef{Model, MathOptInterface.ConstraintIndex{MathOptInterface.ScalarAffineFunction{Float64}, MathOptInterface.LessThan{Float64}}, ScalarShape}}:\n",
       " x[(1, 3, 1)] + x[(1, 4, 1)] + x[(2, 3, 1)] + x[(2, 4, 1)] + x[(2, 5, 1)] ≤ 1.0\n",
       " 0 ≤ 1.0\n",
       " 0 ≤ 1.0\n",
       " x[(1, 2, 4)] ≤ 1.0"
      ]
     },
     "execution_count": 62,
     "metadata": {},
     "output_type": "execute_result"
    }
   ],
   "source": [
    "@constraint(m, [k in K], sum(x[i] for i in arestas_k[k]) <=1)"
   ]
  },
  {
   "cell_type": "code",
   "execution_count": 63,
   "id": "3f071ff6",
   "metadata": {},
   "outputs": [
    {
     "data": {
      "text/plain": [
       "create_arestas_v (generic function with 1 method)"
      ]
     },
     "execution_count": 63,
     "metadata": {},
     "output_type": "execute_result"
    }
   ],
   "source": [
    "function create_arestas_v(arestas)\n",
    "    arestas_v = [[],[],[],[],[]]\n",
    "    for a in arestas\n",
    "        push!(arestas_v[a[1]], (a))\n",
    "        push!(arestas_v[a[2]], (a))\n",
    "    end\n",
    "    return arestas_v\n",
    "end"
   ]
  },
  {
   "cell_type": "code",
   "execution_count": 64,
   "id": "39140d3d",
   "metadata": {},
   "outputs": [
    {
     "data": {
      "text/plain": [
       "5-element Vector{Vector{Any}}:\n",
       " [(1, 2, 4), (1, 3, 1), (1, 4, 1)]\n",
       " [(1, 2, 4), (2, 3, 1), (2, 4, 1), (2, 5, 1)]\n",
       " [(1, 3, 1), (2, 3, 1)]\n",
       " [(1, 4, 1), (2, 4, 1)]\n",
       " [(2, 5, 1)]"
      ]
     },
     "execution_count": 64,
     "metadata": {},
     "output_type": "execute_result"
    }
   ],
   "source": [
    "arestas_v = create_arestas_v(arestas)"
   ]
  },
  {
   "cell_type": "code",
   "execution_count": 65,
   "id": "8ad49c36",
   "metadata": {},
   "outputs": [
    {
     "data": {
      "text/plain": [
       "1-dimensional DenseAxisArray{ConstraintRef{Model, MathOptInterface.ConstraintIndex{MathOptInterface.ScalarAffineFunction{Float64}, MathOptInterface.LessThan{Float64}}, ScalarShape},1,...} with index sets:\n",
       "    Dimension 1, [1, 2, 3, 4, 5]\n",
       "And data, a 5-element Vector{ConstraintRef{Model, MathOptInterface.ConstraintIndex{MathOptInterface.ScalarAffineFunction{Float64}, MathOptInterface.LessThan{Float64}}, ScalarShape}}:\n",
       " x[(1, 2, 4)] + x[(1, 3, 1)] + x[(1, 4, 1)] ≤ 1.0\n",
       " x[(1, 2, 4)] + x[(2, 3, 1)] + x[(2, 4, 1)] + x[(2, 5, 1)] ≤ 1.0\n",
       " x[(1, 3, 1)] + x[(2, 3, 1)] ≤ 1.0\n",
       " x[(1, 4, 1)] + x[(2, 4, 1)] ≤ 1.0\n",
       " x[(2, 5, 1)] ≤ 1.0"
      ]
     },
     "execution_count": 65,
     "metadata": {},
     "output_type": "execute_result"
    }
   ],
   "source": [
    "@constraint(m, [v in V], sum(x[i] for i in arestas_v[v]) <=1)"
   ]
  },
  {
   "cell_type": "code",
   "execution_count": 66,
   "id": "a9019e3a",
   "metadata": {},
   "outputs": [
    {
     "data": {
      "text/latex": [
       "$$ x_{(1, 2, 4)} + x_{(1, 3, 1)} + x_{(1, 4, 1)} + x_{(2, 3, 1)} + x_{(2, 4, 1)} + x_{(2, 5, 1)} $$"
      ],
      "text/plain": [
       "x[(1, 2, 4)] + x[(1, 3, 1)] + x[(1, 4, 1)] + x[(2, 3, 1)] + x[(2, 4, 1)] + x[(2, 5, 1)]"
      ]
     },
     "execution_count": 66,
     "metadata": {},
     "output_type": "execute_result"
    }
   ],
   "source": [
    "@objective(m, Max, sum(x[i] for i in arestas))"
   ]
  },
  {
   "cell_type": "code",
   "execution_count": 67,
   "id": "f860a17f",
   "metadata": {},
   "outputs": [
    {
     "name": "stdout",
     "output_type": "stream",
     "text": [
      "Max x[(1, 2, 4)] + x[(1, 3, 1)] + x[(1, 4, 1)] + x[(2, 3, 1)] + x[(2, 4, 1)] + x[(2, 5, 1)]\n",
      "Subject to\n",
      " x[(1, 3, 1)] + x[(1, 4, 1)] + x[(2, 3, 1)] + x[(2, 4, 1)] + x[(2, 5, 1)] ≤ 1.0\n",
      " 0 ≤ 1.0\n",
      " 0 ≤ 1.0\n",
      " x[(1, 2, 4)] ≤ 1.0\n",
      " x[(1, 2, 4)] + x[(1, 3, 1)] + x[(1, 4, 1)] ≤ 1.0\n",
      " x[(1, 2, 4)] + x[(2, 3, 1)] + x[(2, 4, 1)] + x[(2, 5, 1)] ≤ 1.0\n",
      " x[(1, 3, 1)] + x[(2, 3, 1)] ≤ 1.0\n",
      " x[(1, 4, 1)] + x[(2, 4, 1)] ≤ 1.0\n",
      " x[(2, 5, 1)] ≤ 1.0\n",
      " x[(1, 2, 4)] binary\n",
      " x[(1, 3, 1)] binary\n",
      " x[(1, 4, 1)] binary\n",
      " x[(2, 3, 1)] binary\n",
      " x[(2, 4, 1)] binary\n",
      " x[(2, 5, 1)] binary\n",
      "\n"
     ]
    }
   ],
   "source": [
    "println(m)"
   ]
  },
  {
   "cell_type": "code",
   "execution_count": 68,
   "id": "76907275",
   "metadata": {},
   "outputs": [],
   "source": [
    "optimize!(m)"
   ]
  },
  {
   "cell_type": "code",
   "execution_count": 69,
   "id": "8d017488",
   "metadata": {},
   "outputs": [
    {
     "data": {
      "text/plain": [
       "1.0"
      ]
     },
     "execution_count": 69,
     "metadata": {},
     "output_type": "execute_result"
    }
   ],
   "source": [
    "objective_value(m)"
   ]
  },
  {
   "cell_type": "code",
   "execution_count": 70,
   "id": "d31b7757",
   "metadata": {},
   "outputs": [
    {
     "name": "stdout",
     "output_type": "stream",
     "text": [
      "value.(x) = 1-dimensional DenseAxisArray{Float64,1,...} with index sets:\n",
      "    Dimension 1, [(1, 2, 4), (1, 3, 1), (1, 4, 1), (2, 3, 1), (2, 4, 1), (2, 5, 1)]\n",
      "And data, a 6-element Vector{Float64}:\n",
      " 1.0\n",
      " 0.0\n",
      " 0.0\n",
      " 0.0\n",
      " 0.0\n",
      " 0.0\n"
     ]
    },
    {
     "data": {
      "text/plain": [
       "1-dimensional DenseAxisArray{Float64,1,...} with index sets:\n",
       "    Dimension 1, [(1, 2, 4), (1, 3, 1), (1, 4, 1), (2, 3, 1), (2, 4, 1), (2, 5, 1)]\n",
       "And data, a 6-element Vector{Float64}:\n",
       " 1.0\n",
       " 0.0\n",
       " 0.0\n",
       " 0.0\n",
       " 0.0\n",
       " 0.0"
      ]
     },
     "execution_count": 70,
     "metadata": {},
     "output_type": "execute_result"
    }
   ],
   "source": [
    "@show value.(x)"
   ]
  },
  {
   "cell_type": "code",
   "execution_count": null,
   "id": "9b3f6109",
   "metadata": {},
   "outputs": [],
   "source": []
  }
 ],
 "metadata": {
  "kernelspec": {
   "display_name": "Julia 1.6.2",
   "language": "julia",
   "name": "julia-1.6"
  },
  "language_info": {
   "file_extension": ".jl",
   "mimetype": "application/julia",
   "name": "julia",
   "version": "1.6.2"
  }
 },
 "nbformat": 4,
 "nbformat_minor": 5
}
